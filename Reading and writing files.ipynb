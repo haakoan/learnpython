{
 "cells": [
  {
   "cell_type": "markdown",
   "metadata": {},
   "source": [
    "# File handeling\n",
    "The basic functions to open, read, write and close files in python are used as follows\n",
    "\n",
    "`data_file = open(\"filename\",\"mode\")` Mode can take several values, see blow. Most often use \"w\" or \"r\" \\\n",
    "`file_content = data_file.read()` Read all the data in the file \\\n",
    "`file_line = data_file.readline()` Read file line by line, you will need to iterate \\\n",
    "`file_lines = data_file.readlines()` Read all the lines in on go \\\n",
    "`data_file.write(some_string)` Writes a string to the file \\\n",
    "`data_file.writelines(list_of_strings)` #Writes strings in list as lines in the file \\\n",
    "`data_file.close()` Close the file \n",
    "\n",
    "\n",
    "Different mode values accepted by `open()`  (from https://docs.python.org/3.10/library/functions.html#open ) \\\n",
    "`'r'` open for reading (default) \\\n",
    "`'w'` open for writing, truncating the file first (Will delete the file if it exists first) \\\n",
    "`'x'` open for exclusive creation, failing if the file already exists \\\n",
    "`'a'` open for writing, appending to the end of file if it exists \\\n",
    "`'b'` binary mode  \\\n",
    "`'t'` text mode (default) \\\n",
    "`'+'` open for updating (reading and writing)"
   ]
  },
  {
   "cell_type": "markdown",
   "metadata": {},
   "source": [
    "## Creating and writing to a file\n",
    "You wil now open a file, write to it and close to it.\n"
   ]
  },
  {
   "cell_type": "markdown",
   "metadata": {},
   "source": [
    "### Try opening, writing to and closing a file"
   ]
  },
  {
   "cell_type": "code",
   "execution_count": 1,
   "metadata": {},
   "outputs": [],
   "source": [
    "#Create a new file using the open() function\n",
    "\n",
    "our_file = ... #Make sure you get the mode value of open right.\n",
    "\n",
    "#How files are handled internally in python is not important, \n",
    "#at the moment, but here we have an example of variables containing something \n",
    "#else than simple strings or numbers. In reality, the our_file variable contains \n",
    "#an instance of the class object representing file sin python. For our purposes, \n",
    "#it is simply a way of keeping track of the file within our program."
   ]
  },
  {
   "cell_type": "code",
   "execution_count": null,
   "metadata": {},
   "outputs": [],
   "source": [
    "words = [\"speaker\", \"knife\", \"candy\", \"pants\", \"door\"]\n",
    "\n",
    "#Write a loop that writes each elment of the list words to our_file. \n",
    "\n",
    "for i in range(len(words)):\n",
    "    #something\n",
    "\n",
    "#Now remember to close the file!\n",
    " "
   ]
  },
  {
   "cell_type": "markdown",
   "metadata": {},
   "source": [
    "### A better way"
   ]
  },
  {
   "cell_type": "code",
   "execution_count": 4,
   "metadata": {},
   "outputs": [],
   "source": [
    "#It is recommended to use the with method when dealing with files.\n",
    "#This will make sure the file is closed after you are done working with it\n",
    "#which is very usefull and helps avoid common bugs.\n",
    "\n",
    "#It is done like this\n",
    "words = [\"speaker\", \"knife\", \"candy\", \"pants\", \"door\"]\n",
    "#Try reading the next line out loud, does it make sense to you?\n",
    "with open(\"wordlist.txt\",\"w\") as our_file:\n",
    "    our_file.writelines(words) #here I used the writelines to write all the lines at once!\n",
    "\n",
    "    "
   ]
  },
  {
   "cell_type": "code",
   "execution_count": 5,
   "metadata": {},
   "outputs": [
    {
     "name": "stdout",
     "output_type": "stream",
     "text": [
      "speakerknifecandypantsdoor\n"
     ]
    }
   ],
   "source": [
    "#We can now read the file we just created.\n",
    "#Again we use the with open as variable syntax\n",
    "\n",
    "with open(\"wordlist.txt\",\"r\") as file_to_read: #Note the 'r' instead of 'w'\n",
    "    file_content = file_to_read.read()\n",
    "print(file_content)"
   ]
  },
  {
   "cell_type": "markdown",
   "metadata": {},
   "source": [
    "### An issue with linebreaks\n",
    "\n",
    "Here you see that the file was written without any newline added after each word. \\\n",
    "From the documentation https://docs.python.org/2/library/stdtypes.html#file.writelines \n",
    ">Write a sequence of strings to the file. \\\n",
    ">The sequence can be any iterable object producing strings, typically a list of strings. \\\n",
    ">There is no return value. (The name is intended to match readlines(); **writelines() does not add line separators**.\n",
    "\n",
    "\n"
   ]
  },
  {
   "cell_type": "code",
   "execution_count": 8,
   "metadata": {},
   "outputs": [
    {
     "name": "stdout",
     "output_type": "stream",
     "text": [
      "speakerknifecandypantsdoor\n"
     ]
    }
   ],
   "source": [
    "#Let us see what write does.\n",
    "words = [\"speaker\", \"knife\", \"candy\", \"pants\", \"door\"]\n",
    "with open(\"wordlist.txt\",\"w\") as our_file:\n",
    "    for word in words:\n",
    "        our_file.write(word)\n",
    "with open(\"wordlist.txt\",\"r\") as file_to_read: #Note the 'r' instead of 'w'\n",
    "    file_content = file_to_read.read()\n",
    "print(file_content)"
   ]
  },
  {
   "cell_type": "markdown",
   "metadata": {},
   "source": [
    "### Solve the newline problem\n",
    "In the cell below you need to change the code to fix the new line issue.\n",
    "Read the error messages if you get into trouble."
   ]
  },
  {
   "cell_type": "code",
   "execution_count": 10,
   "metadata": {},
   "outputs": [
    {
     "name": "stdout",
     "output_type": "stream",
     "text": [
      "ab\n",
      "speaker\n",
      "knife\n",
      "candy\n",
      "pants\n",
      "door\n",
      "\n"
     ]
    }
   ],
   "source": [
    "#Again we see that write does not add a newline!\n",
    "#The string \\n is used to indicate a new line, so if you want\n",
    "#a new line for each word you need to tell python that.\n",
    "\n",
    "#Remember that you can add strings togehter\n",
    "print(\"a\"+\"b\")\n",
    "#Change the code below to add a \\n after each word\n",
    "words = [\"speaker\", \"knife\", \"candy\", \"pants\", \"door\"]\n",
    "with open(\"wordlist.txt\",\"w\") as our_file:\n",
    "    for word in words:\n",
    "        our_file.write(word+\"......\") #Modify this line\n",
    "with open(\"wordlist.txt\",\"r\") as file_to_read: #Note the 'r' instead of 'w'\n",
    "    file_content = file_to_read.read()\n",
    "print(file_content)\n"
   ]
  },
  {
   "cell_type": "code",
   "execution_count": 12,
   "metadata": {},
   "outputs": [
    {
     "name": "stdout",
     "output_type": "stream",
     "text": [
      "['speaker\\n', 'knife\\n', 'candy\\n', 'pants\\n', 'door\\n']\n"
     ]
    }
   ],
   "source": [
    "#Use the readlines to read the lines in wordlist.txt\n",
    "with open(\"wordlist.txt\",\"r\") as file_to_read: #Note the 'r' instead of 'w'\n",
    "    file_content = # \n",
    "print(file_content)\n",
    "#Do you notice anything?\n"
   ]
  },
  {
   "cell_type": "code",
   "execution_count": 16,
   "metadata": {},
   "outputs": [
    {
     "name": "stdout",
     "output_type": "stream",
     "text": [
      "['speaker\\n', 'knife\\n', 'candy\\n', 'pants\\n', 'door\\n']\n"
     ]
    }
   ],
   "source": [
    "#How would you read the file using readline instead or readlines? \n",
    "lines = []\n",
    "with open(\"wordlist.txt\",\"r\") as file_to_read:\n",
    "    line = file_to_read.readline()\n",
    "    while line:\n",
    "        lines.append(line) #Why do we append here and not after the read in the loop?\n",
    "        line = file_to_read.readline()\n",
    "print(lines)\n",
    "\n",
    "#This works because readline() returns something that logically evaluates as false when it reaches the\n",
    "#end of the file. I prefer to use readlines, but readline can be usefull."
   ]
  },
  {
   "cell_type": "markdown",
   "metadata": {},
   "source": [
    "## Reading and writing numbers\n",
    "The following code will produce an error\n",
    "\n",
    "```python\n",
    "numbers = [1,2,3,4,5]\n",
    "with open(\"numberlist.txt\",\"w\") as our_file:\n",
    "    for number in numbers:\n",
    "        our_file.write(number)\n",
    "```        \n",
    "\n",
    "The error we get is a so-called type error. We are trying to write an \\\n",
    "integer number to a file, but the write() function only accepts strings!\n",
    "\n",
    "```python\n",
    "TypeError                                 Traceback (most recent call last)\n",
    "<ipython-input-19-3688c2634fe4> in <module>\n",
    "      2 with open(\"numberlist.txt\",\"w\") as our_file:\n",
    "      3     for number in numbers:\n",
    "----> 4         our_file.write(number) \n",
    "      5 \n",
    "      6 with open(\"numberlist.txt\",\"r\") as file_to_read: #Note the 'r' instead of 'w'\n",
    "\n",
    "TypeError: write() argument must be str, not int```\n",
    "\n",
    "We can fix this by converting the number to a string\n",
    "\n",
    "```python\n",
    "numbers = [1,2,3,4,5]\n",
    "with open(\"numberlist.txt\",\"w\") as our_file:\n",
    "    for number in numbers:\n",
    "        our_file.write(str(number)+\"\\n\") #Here we convert number to string using str() and we add a newline\n",
    "```        \n",
    "\n",
    "These days, the recommended way of doing this is something called f-strings, it is beyond the scope of this class, but I include it for completeness.\n",
    "\n",
    "```python\n",
    "numbers = [1,2,3,4,5]\n",
    "with open(\"numberlist.txt\",\"w\") as our_file:\n",
    "    for number in numbers:\n",
    "        our_file.write(f'{number}\\n') #The syntax is an f followed by '' or \"\", f'{variable_name}'\n",
    "        #Note that there is no +\\n, just \\n, because we make a new string instead of adding two\n",
    "```    "
   ]
  },
  {
   "cell_type": "code",
   "execution_count": 22,
   "metadata": {},
   "outputs": [
    {
     "name": "stdout",
     "output_type": "stream",
     "text": [
      "1\n",
      "2\n",
      "3\n",
      "4\n",
      "5\n",
      "\n"
     ]
    }
   ],
   "source": [
    "numbers = [1,2,3,4,5]\n",
    "with open(\"numberlist.txt\",\"w\") as our_file:\n",
    "    for number in numbers:\n",
    "        our_file.write(f'{number}\\n')\n",
    "with open('numberlist.txt',\"r\") as file_to_read: #Note the 'r' instead of 'w'\n",
    "    file_content = file_to_read.read()\n",
    "print(file_content) "
   ]
  },
  {
   "cell_type": "markdown",
   "metadata": {},
   "source": [
    "### Converting strings to numbers\n",
    "The problem is now that the numbers we read are strings! So we need to covnert back using either\n",
    "int() or float()\n"
   ]
  },
  {
   "cell_type": "code",
   "execution_count": 36,
   "metadata": {},
   "outputs": [
    {
     "ename": "TypeError",
     "evalue": "unsupported operand type(s) for /: 'str' and 'int'",
     "output_type": "error",
     "traceback": [
      "\u001b[1;31m---------------------------------------------------------------------------\u001b[0m",
      "\u001b[1;31mTypeError\u001b[0m                                 Traceback (most recent call last)",
      "\u001b[1;32m<ipython-input-36-6a1d12be32fa>\u001b[0m in \u001b[0;36m<module>\u001b[1;34m\u001b[0m\n\u001b[0;32m      6\u001b[0m \u001b[1;32mwith\u001b[0m \u001b[0mopen\u001b[0m\u001b[1;33m(\u001b[0m\u001b[1;34m'numberlist.txt'\u001b[0m\u001b[1;33m,\u001b[0m\u001b[1;34m\"r\"\u001b[0m\u001b[1;33m)\u001b[0m \u001b[1;32mas\u001b[0m \u001b[0mfile_to_read\u001b[0m\u001b[1;33m:\u001b[0m \u001b[1;31m#Note the 'r' instead of 'w'\u001b[0m\u001b[1;33m\u001b[0m\u001b[1;33m\u001b[0m\u001b[0m\n\u001b[0;32m      7\u001b[0m     \u001b[0mfile_content\u001b[0m \u001b[1;33m=\u001b[0m \u001b[0mfile_to_read\u001b[0m\u001b[1;33m.\u001b[0m\u001b[0mread\u001b[0m\u001b[1;33m(\u001b[0m\u001b[1;33m)\u001b[0m\u001b[1;33m\u001b[0m\u001b[1;33m\u001b[0m\u001b[0m\n\u001b[1;32m----> 8\u001b[1;33m \u001b[0mprint\u001b[0m\u001b[1;33m(\u001b[0m\u001b[0mfile_content\u001b[0m\u001b[1;33m[\u001b[0m\u001b[1;36m0\u001b[0m\u001b[1;33m]\u001b[0m\u001b[1;33m/\u001b[0m\u001b[1;36m2\u001b[0m\u001b[1;33m)\u001b[0m\u001b[1;33m\u001b[0m\u001b[1;33m\u001b[0m\u001b[0m\n\u001b[0m",
      "\u001b[1;31mTypeError\u001b[0m: unsupported operand type(s) for /: 'str' and 'int'"
     ]
    }
   ],
   "source": [
    "#try the code\n",
    "numbers = [1,2,3,4,5]\n",
    "with open(\"numberlist.txt\",\"w\") as our_file:\n",
    "    for number in numbers:\n",
    "        our_file.write(f'{number}\\n')\n",
    "with open('numberlist.txt',\"r\") as file_to_read: #Note the 'r' instead of 'w'\n",
    "    file_content = file_to_read.read()\n",
    "print(file_content[0]/2)\n"
   ]
  },
  {
   "cell_type": "code",
   "execution_count": 35,
   "metadata": {},
   "outputs": [
    {
     "name": "stdout",
     "output_type": "stream",
     "text": [
      "0.5\n"
     ]
    }
   ],
   "source": [
    "#How about:\n",
    "numbers = [1,2,3,4,5]\n",
    "with open(\"numberlist.txt\",\"w\") as our_file:\n",
    "    for number in numbers:\n",
    "        our_file.write(f'{number}\\n')\n",
    "with open('numberlist.txt',\"r\") as file_to_read: #Note the 'r' instead of 'w'\n",
    "    file_content = file_to_read.read()\n",
    "\n",
    "print(int(file_content[0])/2) # Do you see the difference?"
   ]
  },
  {
   "cell_type": "code",
   "execution_count": 31,
   "metadata": {},
   "outputs": [],
   "source": [
    "import math #This is an external lib, we will learn more about this later\n",
    "#right now we just need some constants\n",
    "pi = math.pi\n",
    "e = math.e\n",
    "\n",
    "#Open a file named constants.txt, write e and pi to the file, one number per line.\n",
    "\n",
    "#Open the file and read the constants, multiply them together.\n",
    "#Remember to convert the strings!\n",
    "\n",
    "#Do you get 8.539734222673566?\n",
    "\n"
   ]
  },
  {
   "cell_type": "markdown",
   "metadata": {},
   "source": [
    "## Things to remember\n",
    "1. Always close your files \n",
    "2. Data is, by default, written to files as strings \n",
    "3. When we read numbers we need to convert them from strings to numbers \n",
    "\n",
    "In general, it is better to use other tools when reading numeric data. \\\n",
    "Numpy is a library made specifically for\n",
    "dealing with numbers and it has routines that will \\\n",
    "do all this work for us, more on Numpy later.\n"
   ]
  },
  {
   "cell_type": "markdown",
   "metadata": {},
   "source": [
    "## More on f-strings\n",
    "\n",
    "https://peps.python.org/pep-0498/\n",
    "\n",
    ">F-strings provide a way to embed expressions inside string literals, using a minimal syntax. \\\n",
    ">It should be noted that an f-string is really an expression evaluated at run time, not a constant value. \\\n",
    ">In Python source code, an f-string is a literal string, prefixed with ‘f’,\\\n",
    ">Which contains expressions inside braces. The expressions are replaced with their values. Some >examples are:\\\n",
    "\n",
    "```python\n",
    ">>> import datetime\n",
    ">>> name = 'Fred'\n",
    ">>> age = 50\n",
    ">>> anniversary = datetime.date(1991, 10, 12)\n",
    ">>> f'My name is {name}, my age next year is {age+1}, my anniversary is {anniversary:%A, %B %d, %Y}.'\n",
    "'My name is Fred, my age next year is 51, my anniversary is Saturday, October 12, 1991.'\n",
    ">>> f'He said his name is {name!r}.'\n",
    "\"He said his name is 'Fred'.\"```"
   ]
  },
  {
   "cell_type": "code",
   "execution_count": null,
   "metadata": {},
   "outputs": [],
   "source": []
  }
 ],
 "metadata": {
  "kernelspec": {
   "display_name": "Python 3",
   "language": "python",
   "name": "python3"
  },
  "language_info": {
   "codemirror_mode": {
    "name": "ipython",
    "version": 3
   },
   "file_extension": ".py",
   "mimetype": "text/x-python",
   "name": "python",
   "nbconvert_exporter": "python",
   "pygments_lexer": "ipython3",
   "version": "3.8.3"
  }
 },
 "nbformat": 4,
 "nbformat_minor": 4
}
