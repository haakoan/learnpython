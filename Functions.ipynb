{
 "cells": [
  {
   "cell_type": "markdown",
   "metadata": {},
   "source": [
    "# Functions\n",
    "Functions in programming are in many ways similar to what we are used to in mathematics. \n",
    "They can take any given number of inputs and return a set of outputs. \n",
    "Just like in mathematics, in programming, a function does not only work with numbers. \n",
    "\n",
    "Functions alows you to write code once and use it multiple times, \n",
    "which produces a cleaner code that is easier to maintain.\n",
    "\n",
    "Functions are defined by the keyword `def` and the output of a function is \n",
    "defined by the `return` keyword. Note that not all functions have to return something.\n",
    "\n",
    "A typical function will look something like this\n",
    "```python \n",
    "def name_of_function(arguments_of_function_separated_by_comma):\n",
    "    #function body\n",
    "    return output_of_function\n",
    "```\n",
    "for example\n",
    "\n",
    "```python\n",
    "def x2(x):\n",
    "    return x*x\n",
    "```\n",
    "\n",
    "We can now use x2 whenever we need it like so\n",
    "\n",
    "```python\n",
    "value = x2(3)\n",
    "```\n",
    "\n",
    "\n",
    "We will focus mainly on simple functions, \n",
    "but there is alot of room to expand beyond what we will cover here."
   ]
  },
  {
   "cell_type": "code",
   "execution_count": null,
   "metadata": {},
   "outputs": [],
   "source": [
    "#Write a function that takes in a number and returns the number multiplied by 3"
   ]
  },
  {
   "cell_type": "markdown",
   "metadata": {},
   "source": [
    "#### Lists, tuples, dictionaries, and other functions are a small subset of valied function inputs."
   ]
  },
  {
   "cell_type": "code",
   "execution_count": 3,
   "metadata": {},
   "outputs": [
    {
     "name": "stdout",
     "output_type": "stream",
     "text": [
      "18\n"
     ]
    }
   ],
   "source": [
    "def g(x):\n",
    "    g = 2*x+3 #This is an example of doing calculations within the functions before returning.\n",
    "    return g\n",
    "\n",
    "def func_timestwo(func,x): #here we indicate that we want to pass a general function func.\n",
    "    return func(x)*2 \n",
    "\n",
    "print(func_timestwo(g,3))\n",
    "#Notice how we call a function in python\n",
    "#name_of_the_function(arguments)\n",
    "\n",
    "    "
   ]
  },
  {
   "cell_type": "code",
   "execution_count": null,
   "metadata": {},
   "outputs": [],
   "source": [
    "#Write a function translational(function,x,alpha)\n",
    "#that returns the value of the function at x-alpha, function(x-alpha)\n",
    "#\n",
    "def translational(): #what should the arguments be?\n",
    "    #do the necessary calculations\n",
    "    return #something here"
   ]
  },
  {
   "cell_type": "code",
   "execution_count": null,
   "metadata": {},
   "outputs": [],
   "source": [
    "#Write a function that takes in a string and a letter (a one character string).\n",
    "#The function should check if the letter is contained in the string\n",
    "#Hint: Look at the notebook about IF-statements\n",
    "\n",
    "#def letter_in_str(string, letter):\n",
    "\n"
   ]
  }
 ],
 "metadata": {
  "kernelspec": {
   "display_name": "Python 3",
   "language": "python",
   "name": "python3"
  },
  "language_info": {
   "codemirror_mode": {
    "name": "ipython",
    "version": 3
   },
   "file_extension": ".py",
   "mimetype": "text/x-python",
   "name": "python",
   "nbconvert_exporter": "python",
   "pygments_lexer": "ipython3",
   "version": "3.8.3"
  }
 },
 "nbformat": 4,
 "nbformat_minor": 4
}
