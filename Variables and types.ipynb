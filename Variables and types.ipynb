{
 "cells": [
  {
   "cell_type": "markdown",
   "metadata": {},
   "source": [
    "# Variables\n",
    "A variable is just a box in which the computor can store information, a list is is simply a sequence of\n",
    "variables stored in larger box.\n",
    "\n",
    "The goal of this exercise is to practise how to define variables, tuples, and lists. You will also learn about different data types and the basic rules for variables in Python. \n",
    "\n",
    "We will not cover list comprehension, which is an important, but intermediat technique.\n",
    "\n",
    "### Tupels\n",
    "In python, a tuple is a type of array that can not be changed after assigning it. It is denoted \n",
    "tuple = (a,b,c,d).\n",
    "\n",
    "### Lists\n",
    "Lists, in python, are arrays that can be changed in run time. They are defined similarly to tuples but\n",
    "use square brackets.\n",
    "list = [a,b,c,d].\n",
    "\n",
    "### Dictonaires\n",
    "Dictionaries are defined by pairs of keys and values.\n",
    "dict = {\"height\" : 1.85, \"age\" : 33, \"name\" : \"Haakon\"}\n",
    "\n",
    "The elements of tuples and lists are accessed by what is known as indexing, in other words, to get the first\n",
    "element of a list you write list[0]. Note that python counts from 0. In a dictionary, you access the value you are interested\n",
    "in by looking up the key dict[\"name\"] will return \"Haakon\". Think about it as looking up an entry in a traditional dictionary.\n",
    "\n"
   ]
  },
  {
   "cell_type": "code",
   "execution_count": 1,
   "metadata": {},
   "outputs": [],
   "source": [
    "#Variables are defined and assgined a value using the = sign. \n",
    "#In this context, a value can mean many different forms of data.\n",
    "\n",
    "a_number = 5\n",
    "a_letter = 'b'\n",
    "a_word = \"home\" #Note how both \"\" and '' can be used to indicate a string"
   ]
  },
  {
   "cell_type": "code",
   "execution_count": 3,
   "metadata": {},
   "outputs": [],
   "source": [
    "#Try adding a_number and a_letter togehter? What happens and why?\n"
   ]
  },
  {
   "cell_type": "code",
   "execution_count": 4,
   "metadata": {},
   "outputs": [],
   "source": [
    "#Add a_letter and a_word together, why does this work?\n"
   ]
  },
  {
   "cell_type": "code",
   "execution_count": 5,
   "metadata": {},
   "outputs": [],
   "source": [
    "# Define a list of numbers\n",
    "#numbers = \n",
    "#Define a tuple of words\n",
    "#words =\n"
   ]
  },
  {
   "cell_type": "code",
   "execution_count": 6,
   "metadata": {},
   "outputs": [],
   "source": [
    "#words is a tuple, what happens if you try to change one element of it? Why\n",
    "#words[..] = .."
   ]
  },
  {
   "cell_type": "code",
   "execution_count": 10,
   "metadata": {},
   "outputs": [],
   "source": [
    "#Use the .append() method to append a number to\n",
    "#the list of numbers.\n"
   ]
  },
  {
   "cell_type": "code",
   "execution_count": 11,
   "metadata": {},
   "outputs": [],
   "source": [
    "# Define a simple dict of your choice\n",
    "# remember the {\"key\" : value} syntax\n",
    "\n"
   ]
  },
  {
   "cell_type": "code",
   "execution_count": 16,
   "metadata": {},
   "outputs": [
    {
     "name": "stdout",
     "output_type": "stream",
     "text": [
      "['Cabo Verde', 'Cambodia', 'Cameroon', 'Canada', 'Central African Republic (CAR)', 'Chad', 'Chile', 'China', 'Colombia', 'Comoros', 'Congo, Democratic Republic of the', 'Congo, Republic of the', 'Costa Rica', 'Croatia', 'Cuba', 'Cyprus', 'Czechia']\n"
     ]
    }
   ],
   "source": [
    "countries = ['Cabo Verde','Cambodia','Cameroon','Canada','Central African Republic (CAR)','Chad','Chile',\n",
    "'China','Colombia','Comoros','Congo, Democratic Republic of the','Congo, Republic of the','Costa Rica',\n",
    "'Croatia','Cuba','Cyprus','Czechia']\n",
    "print(countries)"
   ]
  },
  {
   "cell_type": "code",
   "execution_count": 17,
   "metadata": {},
   "outputs": [],
   "source": [
    "#One can select a subset of elements from a list, or tuple, using the [start:end:step] syntax. You do\n",
    "#not have to give the step if it is 1. Remember that [0:] or [:] selects all elements. \n",
    "\n",
    "#Print the 3 first countries\n",
    "#print(countries[...])\n",
    "\n",
    "#Print every 2nd country starting from the first\n",
    "\n",
    "#Print the last country\n",
    "\n",
    "#Try selectinng different parts of the list untill you feel you understand how it works"
   ]
  },
  {
   "cell_type": "code",
   "execution_count": 19,
   "metadata": {},
   "outputs": [
    {
     "name": "stdout",
     "output_type": "stream",
     "text": [
      "[40, 30, 20, 10]\n"
     ]
    }
   ],
   "source": [
    "list1 = [10, 20, 30, 40]\n",
    "print(list(reversed(list1))) \n",
    "#The list() around reversed is needed because of the way\n",
    "#python deals with lists and iterations, but it is beyond what we want to cover.\n",
    "#The important part is that there are several functions that\n",
    "#you can use to manipulate lists"
   ]
  },
  {
   "cell_type": "code",
   "execution_count": null,
   "metadata": {},
   "outputs": [],
   "source": [
    "numbers = [1,2,3,4]\n",
    "#Multiply numbers by 4, what happens? "
   ]
  }
 ],
 "metadata": {
  "kernelspec": {
   "display_name": "Python 3",
   "language": "python",
   "name": "python3"
  },
  "language_info": {
   "codemirror_mode": {
    "name": "ipython",
    "version": 3
   },
   "file_extension": ".py",
   "mimetype": "text/x-python",
   "name": "python",
   "nbconvert_exporter": "python",
   "pygments_lexer": "ipython3",
   "version": "3.8.3"
  }
 },
 "nbformat": 4,
 "nbformat_minor": 4
}
