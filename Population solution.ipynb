{
 "cells": [
  {
   "cell_type": "code",
   "execution_count": 1,
   "metadata": {},
   "outputs": [
    {
     "name": "stdout",
     "output_type": "stream",
     "text": [
      "Total population in 1986 was 4159187.0\n",
      "Total population in 2020 was 5425270.0\n",
      "Average age in 1986 was 36.937445707538515\n",
      "Average age in 2020 was 40.49549257456311\n",
      "Median age in 1986 was 34.0\n",
      "Median age in 2020 was 40.0\n"
     ]
    }
   ],
   "source": [
    "with open(\"data.csv\") as population_data_file:\n",
    "    population_data = population_data_file.readlines()\n",
    "    \n",
    "ages = []\n",
    "data20 = []\n",
    "data86 = []\n",
    "\n",
    "for line in population_data:\n",
    "    line_split = line.split()\n",
    "    ages.append(float(line_split[0]))\n",
    "    data86.append(float(line_split[1]))\n",
    "    data20.append(float(line_split[2]))\n",
    "    \n",
    "\n",
    "population20 = 0\n",
    "for number in data20:\n",
    "    population20 = population20 + number\n",
    "    \n",
    "population86 = 0\n",
    "for number in data86:\n",
    "    population86 = population86 + number\n",
    "\n",
    "print(f'Total population in 1986 was {population86}')\n",
    "print(f'Total population in 2020 was {population20}')\n",
    "\n",
    "xbar20 = 0\n",
    "xbar86 = 0\n",
    "for i in range(0,len(ages)):\n",
    "    xbar20 =xbar20 + ages[i]*data20[i]\n",
    "    xbar86 =xbar86 + ages[i]*data86[i]\n",
    "xbar20 = xbar20/population20\n",
    "xbar86 = xbar86/population86\n",
    "\n",
    "print(f'Average age in 1986 was {xbar86}')\n",
    "print(f'Average age in 2020 was {xbar20}')\n",
    "\n",
    "median_pop = 0\n",
    "i = 0\n",
    "while(median_pop <= 0.5*population20 ):\n",
    "    median_pop = median_pop +  data20[i]\n",
    "    median_age20 = ages[i]\n",
    "    i = i+1\n",
    "\n",
    "    \n",
    "median_pop = 0\n",
    "i = 0\n",
    "while(median_pop <= 0.5*population86 ):\n",
    "    median_pop = median_pop +  data86[i]\n",
    "    median_age86 = ages[i]\n",
    "    i = i+1\n",
    "    \n",
    "print(f'Median age in 1986 was {median_age86}')\n",
    "print(f'Median age in 2020 was {median_age20}')"
   ]
  },
  {
   "cell_type": "code",
   "execution_count": null,
   "metadata": {},
   "outputs": [],
   "source": []
  }
 ],
 "metadata": {
  "kernelspec": {
   "display_name": "Python 3",
   "language": "python",
   "name": "python3"
  },
  "language_info": {
   "codemirror_mode": {
    "name": "ipython",
    "version": 3
   },
   "file_extension": ".py",
   "mimetype": "text/x-python",
   "name": "python",
   "nbconvert_exporter": "python",
   "pygments_lexer": "ipython3",
   "version": "3.8.3"
  }
 },
 "nbformat": 4,
 "nbformat_minor": 4
}
