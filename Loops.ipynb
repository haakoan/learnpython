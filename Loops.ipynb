{
 "cells": [
  {
   "cell_type": "markdown",
   "metadata": {},
   "source": [
    "# Loops\n",
    "This notebooks covers basis looping.\n",
    "Built-in functionality that will be useful: \\\n",
    "`len(list/tuple)` gives the length of the list or tuple \\\n",
    "`range(n)` iteratively gives numbers from 0 to (n-1) often used as for i in range(n)\n",
    "\n",
    "Basic for loop construction\n",
    "\n",
    "```python\n",
    "for i in range(n):\n",
    "    do something \n",
    "```\n",
    "Basic for while construction\n",
    "```python\n",
    "while(condition):\n",
    "    do something \n",
    "```\n",
    "The condition in a while loop should be a logical expression. For example\n",
    "\n",
    "```python\n",
    "i = 0\n",
    "while(i < 10):\n",
    "    print(i) \n",
    "    i = i+1\n",
    "```\n",
    "\n",
    "Note! If you get while loops that won't stop it is because you have given a stop condition that\n",
    "is never reached. Press the stop button next to the run button in the notebook and try again. "
   ]
  },
  {
   "cell_type": "code",
   "execution_count": null,
   "metadata": {},
   "outputs": [],
   "source": [
    "#Write a for loop to sum the numbers from 0 to 9 (you should get 45)\n",
    "# sum = 0\n",
    "# for ....\n",
    "#\n"
   ]
  },
  {
   "cell_type": "code",
   "execution_count": null,
   "metadata": {},
   "outputs": [],
   "source": [
    "#Try the while loop from the example text. What does each part do?\n",
    "#"
   ]
  },
  {
   "cell_type": "code",
   "execution_count": 1,
   "metadata": {},
   "outputs": [],
   "source": [
    "countries = ['Cabo Verde','Cambodia','Cameroon','Canada','Central African Republic (CAR)','Chad','Chile',\n",
    "'China','Colombia','Comoros','Congo, Democratic Republic of the','Congo, Republic of the','Costa Rica',\n",
    "'Croatia','Cuba','Cyprus','Czechia']"
   ]
  },
  {
   "cell_type": "code",
   "execution_count": 2,
   "metadata": {},
   "outputs": [],
   "source": [
    "# Write a loop that prints all the countries in the countries list.\n",
    "#"
   ]
  },
  {
   "cell_type": "code",
   "execution_count": 3,
   "metadata": {},
   "outputs": [],
   "source": [
    "#Write a loop that prints the countries in countries, but stops when it comes to 'Canada'\n",
    "#How "
   ]
  },
  {
   "cell_type": "markdown",
   "metadata": {},
   "source": [
    "So far we have used the `for i in range()` syntax, but it is possible to let `i` be an element in any list or iterable construct. You can also use a different variable than `i`. \n",
    "\n",
    "Try to solve the following problem with the syntax\n",
    "\n",
    "`for variable in list:\n",
    "    do something`"
   ]
  },
  {
   "cell_type": "code",
   "execution_count": 4,
   "metadata": {},
   "outputs": [
    {
     "ename": "SyntaxError",
     "evalue": "invalid syntax (<ipython-input-4-def9b39687dc>, line 4)",
     "output_type": "error",
     "traceback": [
      "\u001b[1;36m  File \u001b[1;32m\"<ipython-input-4-def9b39687dc>\"\u001b[1;36m, line \u001b[1;32m4\u001b[0m\n\u001b[1;33m    for i in ..:\u001b[0m\n\u001b[1;37m             ^\u001b[0m\n\u001b[1;31mSyntaxError\u001b[0m\u001b[1;31m:\u001b[0m invalid syntax\n"
     ]
    }
   ],
   "source": [
    "#Finish the code. We want loop over n and print n to the second power\n",
    "n = [1, 2, 3, 4, 5]\n",
    "# it\n",
    "for i in ..:\n",
    "    n2 = .. ** 2 #Takes the 2 power\n",
    "    print(\"Square of:\", i, \"is:\", n2)"
   ]
  },
  {
   "cell_type": "code",
   "execution_count": null,
   "metadata": {},
   "outputs": [],
   "source": [
    "#Finish the code. The goal is to store n*2 in a new list.\n",
    "n = [1, 2, 3, 4, 5]\n",
    "n2 = []\n",
    "# it\n",
    "for i in ..:\n",
    "    n2.append() #Append the right number to the n2 list. Google python append if you do not remember how it works\n",
    "    \n",
    "print(n2)"
   ]
  },
  {
   "cell_type": "code",
   "execution_count": 5,
   "metadata": {},
   "outputs": [
    {
     "name": "stdout",
     "output_type": "stream",
     "text": [
      "Czechia\n",
      "Cyprus\n",
      "Cuba\n",
      "Croatia\n",
      "Costa Rica\n",
      "Congo, Republic of the\n",
      "Congo, Democratic Republic of the\n",
      "Comoros\n",
      "Colombia\n",
      "China\n",
      "Chile\n",
      "Chad\n",
      "Central African Republic (CAR)\n",
      "Canada\n",
      "Cameroon\n",
      "Cambodia\n",
      "Cabo Verde\n"
     ]
    }
   ],
   "source": [
    "#Run the loop\n",
    "for country in reversed(countries):\n",
    "    print(country)\n",
    "#What does the reversed() function do?"
   ]
  },
  {
   "cell_type": "code",
   "execution_count": null,
   "metadata": {},
   "outputs": [],
   "source": [
    "#Run the loop\n",
    "for i in enumerate(countries):\n",
    "    print(i)\n",
    "#What does the enumerate() function do?\n",
    "#Google it if you are unsure!"
   ]
  },
  {
   "cell_type": "code",
   "execution_count": 6,
   "metadata": {},
   "outputs": [
    {
     "name": "stdout",
     "output_type": "stream",
     "text": [
      "1 0\n",
      "2 0\n",
      "2 1\n"
     ]
    }
   ],
   "source": [
    "#Loops can nested, but be carefull because nested loops are slow in python\n",
    "#Run the loop\n",
    "for i in range(0,3):\n",
    "    for j in range(0,i):\n",
    "        print(i,j)\n",
    "#What happens and why?\n"
   ]
  },
  {
   "cell_type": "markdown",
   "metadata": {},
   "source": [
    "From https://projecteuler.net/problem=800\n",
    "\n",
    "\"An integer of the form $p^q q^p$ with prime numbers $p \\neq q$ is called a _hybrid-integer_.  \n",
    "For example, $800 = 2^5 5^2$ is a hybrid-integer.\"\n",
    "\n"
   ]
  },
  {
   "cell_type": "code",
   "execution_count": null,
   "metadata": {},
   "outputs": [],
   "source": [
    "p_primes = [2,3,5]\n",
    "q_primes = [7,11,13]\n",
    "\n",
    "#Write a nested loop that calculates the hybrid-integer for the two set of primes\n",
    "#given in the lists p_primes and q_primes, 2**7 * 7**2, 3**7 * 7**3 and so on."
   ]
  }
 ],
 "metadata": {
  "kernelspec": {
   "display_name": "Python 3",
   "language": "python",
   "name": "python3"
  },
  "language_info": {
   "codemirror_mode": {
    "name": "ipython",
    "version": 3
   },
   "file_extension": ".py",
   "mimetype": "text/x-python",
   "name": "python",
   "nbconvert_exporter": "python",
   "pygments_lexer": "ipython3",
   "version": "3.8.3"
  }
 },
 "nbformat": 4,
 "nbformat_minor": 4
}
