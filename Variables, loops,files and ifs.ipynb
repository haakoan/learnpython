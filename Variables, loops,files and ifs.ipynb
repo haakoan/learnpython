{
 "cells": [
  {
   "cell_type": "markdown",
   "metadata": {},
   "source": [
    "## Variables\n",
    "A variable can be thought of as a box that in which you can store information for later. The computor\n",
    "keeps the variable in memory and you can acess it by refering to its name later in the program. You are\n",
    "free to change the content of a variable, but some languages have a extra type of variables, constant variables, \n",
    "that can not be changed while the program is running\n",
    "\n",
    "In most languages, variables are assigned content using the assignment operator \"=\". For example, pi = 3.14. \n",
    "The equal sign does, therefore, not have the meaning we are used to from math. This will become clear later when we\n",
    "look at IFs.\n",
    "\n",
    "## Arrays\n",
    "Often you want to keep track of multiple variables, for example the position of a particle in three dimensions (x,y,z).\n",
    "One solution is to define three variables ( x, y, and z ), but one can also define r = (x,y,z).\n",
    "Python has three built-in array types. \n",
    "\n",
    "### Tupels\n",
    "In python a tuple is a type of array that can not be changed after assigning it. It is denoted \n",
    "tuple = (a,b,c,d).\n",
    "\n",
    "### Lists\n",
    "Lists, in pyhon, are arrays that can be changed in run time. They are defined in a similar way as tuples, but\n",
    "use square brackets.\n",
    "list = [a,b,c,d].\n",
    "\n",
    "### Dictonaires\n",
    "Dictonaris are defined by paris of keys and values.\n",
    "dict = {\"height\" : 1.85, \"age\" : 33, \"name\" : \"Haakon\"}\n",
    "\n",
    "The elements of tuples and lists are accesed by what is known as indexing, in other words to get the first\n",
    "element of list you write list[0]. Note that python counts from 0. In a dictonary you acess the value you are interested\n",
    "in by looking up the key dict[\"name\"] will return \"Haakon\". Think about it as looking up a entry in a traditional dictonary.\n",
    "\n",
    "#### A side note on types\n",
    "Types, what you are working with is important because computors are not very clever. There is a difference between a number and a text string. In python strings are defined by using either '' or \"\". Importantly this means that 6 is not the same as '6'.\n",
    "Obviosuly, it would not make sense to add the number 4 and the character c. We intutivly understand this, but a computor needs rigrous rules. \n",
    "\n",
    "a = 6 \\\n",
    "b = \"a\" \\\n",
    "c = a+b \n",
    "\n",
    "The above example will return an error since a and b are not the same type."
   ]
  },
  {
   "cell_type": "code",
   "execution_count": null,
   "metadata": {},
   "outputs": [],
   "source": [
    "#Define two variables a and b, given them number values and add them together\n",
    "a = \n",
    "b = \n",
    "c = a+b\n",
    "\n"
   ]
  },
  {
   "cell_type": "code",
   "execution_count": null,
   "metadata": {},
   "outputs": [],
   "source": [
    "#Define two variables a and b, make one a string and one a number. Add them together, what happens?\n"
   ]
  },
  {
   "cell_type": "code",
   "execution_count": 2,
   "metadata": {},
   "outputs": [],
   "source": [
    "#Define a tuple of length 3.\n",
    "#a = (.....)\n"
   ]
  },
  {
   "cell_type": "code",
   "execution_count": 6,
   "metadata": {},
   "outputs": [],
   "source": [
    "#Print the first element of the tuple, remember that counting starts at 0 and use print(a) to print the variable a. \n"
   ]
  },
  {
   "cell_type": "code",
   "execution_count": null,
   "metadata": {},
   "outputs": [],
   "source": [
    "#Try changing one elment of the tuple. What happens?"
   ]
  },
  {
   "cell_type": "code",
   "execution_count": null,
   "metadata": {},
   "outputs": [],
   "source": [
    "# Define a list of length 3 and fill it with numbers\n",
    "# for example numbers = [1,34,52]\n",
    "\n",
    "# Print an element of the list and the whole list, what happens if you write print(name_of_list)\n",
    "\n",
    "# Try changing one of the elements in the list.\n"
   ]
  },
  {
   "cell_type": "code",
   "execution_count": 5,
   "metadata": {},
   "outputs": [
    {
     "name": "stdout",
     "output_type": "stream",
     "text": [
      "[1, 2, 3]\n",
      "[1, 2, 3, 4]\n"
     ]
    }
   ],
   "source": [
    "# Lists can be changed in run-time, you can add a element to the end of a list by using list.append.\n",
    "my_list = [1,2,3]\n",
    "print(my_list)\n",
    "my_list.append(4)\n",
    "print(my_list)\n",
    "\n",
    "# Try it out with your list"
   ]
  },
  {
   "cell_type": "code",
   "execution_count": 10,
   "metadata": {},
   "outputs": [
    {
     "name": "stdout",
     "output_type": "stream",
     "text": [
      "go down below the surface or to the bottom of a liquid or soft substance\n",
      "dict_keys(['boat', 'to sail', 'sink'])\n"
     ]
    }
   ],
   "source": [
    "# Creat a small dictionary with words from https://dictionary.cambridge.org/\n",
    "# For example\n",
    "boats_and_such = {\"boat\" : \"a small vehicle for travelling on water\",\n",
    "                 \"to sail\" : \"When a boat or a ship sails, it travels on the water\",\n",
    "                 \"sink\" : \"go down below the surface or to the bottom of a liquid or soft substance\"}\n",
    "#List one of the words\n",
    "print(boats_and_such[\"sink\"])\n",
    "#Note that there are some useful tools you can use with dicts.\n",
    "print(boats_and_such.keys()) #What happened here? Check https://docs.python.org/3/library/stdtypes.html#dict for more info"
   ]
  },
  {
   "cell_type": "code",
   "execution_count": null,
   "metadata": {},
   "outputs": [],
   "source": [
    "# Creat your own dict."
   ]
  },
  {
   "cell_type": "markdown",
   "metadata": {},
   "source": [
    "## Loops\n",
    "\n",
    "Being able to repeat the same operation over and over is very useful, loops\n",
    "help us do exactly that. Most languages have for and while loops.\n",
    "A for loop will loop over a set of iterations determined before the loops start and\n",
    "a while loop will loop until some condition is met. \\\n",
    "\n",
    "Python uses a loop keyword followed by the loop instructions and a :. You then\n",
    "start a newline, indentate the code and write the content of your loop. Once you are\n",
    "done with the loop you remove the indentation on the next line\n",
    "\n",
    "```python\n",
    "for variable in something:  \n",
    "     do something\n",
    "```  \n",
    "is a normal python looking loop.\n"
   ]
  },
  {
   "cell_type": "code",
   "execution_count": 15,
   "metadata": {},
   "outputs": [
    {
     "name": "stdout",
     "output_type": "stream",
     "text": [
      "1\n",
      "2\n",
      "3\n",
      "4\n"
     ]
    }
   ],
   "source": [
    "for i in [1,2,3,4]: #Always remember :\n",
    "    print(i) #Indentation to enter the loop part of the code\n",
    "#Jump back in to exit the loop"
   ]
  },
  {
   "cell_type": "code",
   "execution_count": 25,
   "metadata": {},
   "outputs": [
    {
     "name": "stdout",
     "output_type": "stream",
     "text": [
      "1\n",
      "2\n",
      "3\n",
      "4\n"
     ]
    }
   ],
   "source": [
    "#It is better to in range(). The range() is a what python calls a generator and will\n",
    "#give numbers in a particular range with a particular step.\n",
    "\n",
    "for i in range(1,5): #Notice what the range will be from 1 up to, but not including, 5.\n",
    "    print(i)"
   ]
  },
  {
   "cell_type": "code",
   "execution_count": 14,
   "metadata": {},
   "outputs": [
    {
     "name": "stdout",
     "output_type": "stream",
     "text": [
      "1\n",
      "2\n",
      "3\n",
      "4\n"
     ]
    }
   ],
   "source": [
    "# While loops run until a condition is met, this means that some state has to change in the loop in\n",
    "# order to exit the loop.\n",
    "i = 1\n",
    "while(i < 5 ):\n",
    "    print(i)\n",
    "    i = i+1 #Without this the loop would never stop!"
   ]
  },
  {
   "cell_type": "code",
   "execution_count": 16,
   "metadata": {},
   "outputs": [],
   "source": [
    "#Write a loop to add all numbers between 0 and 10 to a variable \n",
    "# and print the sum. How would you do it without loops?\n"
   ]
  },
  {
   "cell_type": "code",
   "execution_count": 17,
   "metadata": {},
   "outputs": [],
   "source": [
    "# Loops can be useful for accessing array elements one by one.\n",
    "# Print each element in the array\n",
    "array = [1,2,3,4,5]\n",
    "#by using a loop.\n",
    "\n",
    "#Can you print them in reverse order?\n",
    "#Hint: Remember that array elements can be extracted using the array[index] syntax "
   ]
  },
  {
   "cell_type": "markdown",
   "metadata": {},
   "source": [
    "## Conditional expression\n",
    "In the while loop we saw our first example of a bool, or conditional, expression. \n",
    "We compared the variable i to 5, to check if i was smaller than 5.\n",
    "\n",
    "Conditional expression evaluate to either true or false.\n",
    "\n",
    "`1 > 5 : False` \\\n",
    "`4 < 6 : True `\n",
    "\n",
    "Most of the comparison operators are the same that you are used to for math, but, since\n",
    "the equal sign is already used for assigning variables and list values, equality is \n",
    "checked using the == operator.\n",
    "\n",
    "It is possible to construct complex expressions using the \"or\" and \"and\" keywords,\n",
    "or requires one or the other to be true, while and requires both to be true."
   ]
  },
  {
   "cell_type": "code",
   "execution_count": 23,
   "metadata": {},
   "outputs": [
    {
     "name": "stdout",
     "output_type": "stream",
     "text": [
      "False\n",
      "True\n",
      "True\n",
      "False\n",
      "True\n"
     ]
    }
   ],
   "source": [
    "print(5 == 3)\n",
    "print(5 > 3)\n",
    "print( (5 == 3) or (5 > 3) )\n",
    "print( (5 == 3) and (5 > 3) )\n",
    "print( ((5 == 3) and (5 > 3)) or 5==5 ) #You can make long expressions with and/or"
   ]
  },
  {
   "cell_type": "markdown",
   "metadata": {},
   "source": [
    "## If-statements\n",
    "If-statements are constructed in a similar way to loops, but instead of repeating the same code over and over, they\n",
    "only execute if some condition is meet.\n",
    "\n",
    "It is possible to specify what the code should do if the condition is not meet, by using else or if-else (elif in python).\n",
    "\n",
    "Importantly, if statements need valid conditional expressions. How would the computer understand [1,3,4] > 5? \n",
    "It is not a well defined statement and a choice has to be made, how such cases are handled differ from language to language, but\n",
    "often produce error messages."
   ]
  },
  {
   "cell_type": "code",
   "execution_count": 26,
   "metadata": {},
   "outputs": [
    {
     "name": "stdout",
     "output_type": "stream",
     "text": [
      "the number is larger than 200\n"
     ]
    }
   ],
   "source": [
    "number = 235\n",
    "if(number > 200):\n",
    "    print(\"the number is larger than 200\")\n",
    "elif(number > 100):\n",
    "    print(\"the number is larger than 100\")\n",
    "else:\n",
    "    print(\"the number is small\")\n",
    "\n",
    "#Change number and see what happens."
   ]
  },
  {
   "cell_type": "markdown",
   "metadata": {},
   "source": [
    "## Functions\n",
    "In programming, functions are very general constructs and can do much more than what we\n",
    "are used to from analysis. However, in their essence they are very similar to their mathematical cousins.\n",
    "\n",
    "A function takes some input (most of the time), does something with that input (most of the time), and\n",
    "returns some thing to the main program (most of the time). Functions are useful because they can be written once\n",
    "and called many times.\n",
    "\n",
    "In python you use the same colon and indentation syntax as with loops and if-statements, the keyword is def."
   ]
  },
  {
   "cell_type": "code",
   "execution_count": 27,
   "metadata": {},
   "outputs": [
    {
     "name": "stdout",
     "output_type": "stream",
     "text": [
      "5 10\n"
     ]
    }
   ],
   "source": [
    "def a_function(function_argument):\n",
    "    return function_argument*2 #Note the return keywords tells python what the function is supposed to return to program\n",
    "\n",
    "number = 5\n",
    "number_times_two = a_function(5)\n",
    "print(number,number_times_two )"
   ]
  },
  {
   "cell_type": "code",
   "execution_count": 34,
   "metadata": {},
   "outputs": [
    {
     "name": "stdout",
     "output_type": "stream",
     "text": [
      "10.0006103515625 10\n",
      "12.0006103515625 12\n",
      "14.0006103515625 14\n",
      "16.0006103515625 16\n",
      "18.0006103515625 18\n"
     ]
    }
   ],
   "source": [
    "# One can write more complicated functions\n",
    "# and functions can call other functions\n",
    "\n",
    "#The following two examples are fairly complicated. Try to think about what\n",
    "#each line does.\n",
    "\n",
    "def derivative_of_function(x):\n",
    "    \"\"\"evaluate the derivative of x**2 at the point given by the user\"\"\"\n",
    "    delta_x = 5.0\n",
    "    limit_old = 0\n",
    "    tol = 1e-3\n",
    "    limit = 10*tol\n",
    "    \n",
    "    while(abs(limit_old-limit) > tol): #what does this condition represent?\n",
    "        limit_old = limit\n",
    "        limit = ((x+delta_x)**2 - x**2)/delta_x #Does this look familiar?\n",
    "        delta_x = delta_x*0.5\n",
    "        \n",
    "    return limit\n",
    "#What does this function do?\n",
    "\n",
    "for x1 in range(5,10):\n",
    "    print(derivative_of_function(x1),2*x1)"
   ]
  },
  {
   "cell_type": "code",
   "execution_count": 26,
   "metadata": {},
   "outputs": [
    {
     "name": "stdout",
     "output_type": "stream",
     "text": [
      "75.00057220607997 75\n",
      "108.00068664699793 108\n",
      "147.0008010879159 147\n",
      "192.00091552734375 192\n",
      "243.00051498413086 243\n"
     ]
    }
   ],
   "source": [
    "#You can pass more than one argument to a function, you can even pass other functions. Take the example above\n",
    "# but with a slight modification\n",
    "\n",
    "def f(x):\n",
    "    return x**3\n",
    "\n",
    "def derivative_of_function(x,a_function):\n",
    "    \"\"\"evaluate the derivative of a_function\"\"\" #this is called the doc-string of a function, use three \" on either side.\n",
    "    delta_x = 5.0\n",
    "    limit_old = 0\n",
    "    tol = 1e-3\n",
    "    limit = 10*tol\n",
    "    \n",
    "    while(abs(limit_old-limit) > tol): #what does this condition represent?\n",
    "        limit_old = limit\n",
    "        limit = (a_function(x+delta_x) - a_function(x))/delta_x #Evaluate a_function at x and x+delta_x\n",
    "        delta_x = delta_x*0.5\n",
    "        \n",
    "    return limit\n",
    "\n",
    "\n",
    "for x1 in range(5,10):\n",
    "    print(derivative_of_function(x1,f),3*x1**2) #here we pass the function f that we defined above! \n",
    "    \n",
    "#This is useful because we can now pass any function f(x) to our derivative_of_function function\n",
    "#thus making the code more flexible and reusable!\n",
    "\n",
    "#Try defining a new function g(g) and pass that to derivative_of_function\n",
    "\n",
    "#def g(x):\n",
    "#    return something\n",
    "#\n",
    "#print(derivative_of_function(some_value,g))"
   ]
  },
  {
   "cell_type": "code",
   "execution_count": 38,
   "metadata": {},
   "outputs": [],
   "source": [
    "#Finish a function to calculate derivative using Finite differences\n",
    "#https://en.wikipedia.org/wiki/Finite_difference\n",
    "\n",
    "#The function should take in two lists, y and x values. Then loop over the lists and\n",
    "#calculate the derivatives. Be careful about how you deal with the end points, you need to use\n",
    "#if statements there.\n",
    "\n",
    "def finite_difference(x,y):\n",
    "    \"\"\" The function takes a list of y and x values from the user.\n",
    "    The list y represents a function of x, so that y = f(x).\n",
    "    The function finds the derivative of f by using finite differences\"\"\"\n",
    "    \n",
    "    f_derivative = [] # [] or () produces an empty list/array.\n",
    "    \n",
    "    for i in range(0,): #What should the range of i be?\n",
    "        if():\n",
    "            f_derivative.append() #Forward for i = 0\n",
    "        elif():\n",
    "            f_derivative.append() #Backwards for i = i_max\n",
    "        else:\n",
    "            f_derivative.append() #Central for all other i values\n",
    "\n",
    "    return #What should be returned?\n",
    "\n",
    "#Hint, you can use len() to get the length of a list, len([1,2,3,5]) = 4"
   ]
  },
  {
   "cell_type": "code",
   "execution_count": null,
   "metadata": {},
   "outputs": [],
   "source": [
    "#Create two lists and test your function.\n",
    "#Can you use the function g(x) you created above to generate the (x,y) points?\n"
   ]
  },
  {
   "cell_type": "markdown",
   "metadata": {},
   "source": [
    "## Files\n",
    "It is usefull to open external files to either read or write data (there are many other uses too).\n",
    "How this is implemented is higly language specific. In python one uses the open, readline(s) and close\n",
    "functions.\n",
    "\n",
    "### In Python\n",
    "\n",
    "`data_file = open(\"filename\",\"mode\")` Mode can take several values, see blow. Most often use \"w\" or \"r\" \\\n",
    "`file_content = data_file.read()` Read all the data in the file \\\n",
    "`file_line = data_file.readline()` Read file line by line, you will need to iterate \\\n",
    "`file_lines = data_file.readlines()` Read all the lines in on go \\\n",
    "`data_file.write(some_string)` Writes a string to the file \\\n",
    "`data_file.writelines(list_of_strings)` #Writes strings in list as lines in the file \\\n",
    "`data_file.close()` Close the file \n",
    "\n",
    "It is almost always best to use the `with` statment\n",
    "```python\n",
    "words = [\"speaker\", \"knife\", \"candy\", \"pants\", \"door\"]\n",
    "with open(\"wordlist.txt\",\"w\") as our_file:\n",
    "    for word in words:\n",
    "        our_file.write(word)\n",
    "with open(\"wordlist.txt\",\"r\") as file_to_read:\n",
    "    file_content = file_to_read.read()\n",
    "print(file_content)```\n",
    "\n",
    "When we use `with` the file is closed automatically, which avoid bugs and makes the code cleaner."
   ]
  },
  {
   "cell_type": "markdown",
   "metadata": {},
   "source": [
    "## Reading and working with data\n",
    "\n",
    "### Do this exercise to practise, it can be challenging for beginners\n",
    "\n",
    "If you get stuck ask or check the Population solution notebook.\n",
    "To learn programming, it is essential to practice. It can often be time-consuming and\n",
    "frustrating, but I highly recommend going through the processes even if it can be annoying.\n",
    "\n",
    "This directory contains a file called \"data.cvs\".  \n",
    "The data file contains the age demographics of Norway in 2020 and 1986. \n",
    "The first collum ranges from 0 to 105 and represents the ages of the population. \n",
    "The second collum represents the number of people at a given age in 2020 and the third collum in 1986. \n",
    "\n",
    "Your task is to read the file, and create one list for the ages, \n",
    "one list for the 1986 data and a third list for the 2020 data. \n",
    "\n",
    "Then for each year calculate: the weighted arithmetic ($\\bar{X}$) mean and the median \n",
    "\n",
    "$\\bar{X} = \\sum \\frac{\\text{age} \\ \\times \\ \\text{number of people at that age}}{\\text{total population}}$\n"
   ]
  },
  {
   "cell_type": "code",
   "execution_count": 1,
   "metadata": {},
   "outputs": [],
   "source": [
    "#Start by opening the file use the with statement.\n",
    "# with open() as population_data_file = \n",
    "\n",
    "#Read the data in the file\n",
    "    #population_data = .."
   ]
  },
  {
   "cell_type": "markdown",
   "metadata": {},
   "source": [
    "Now you will run into a problem because your data lines \\\n",
    "have been read as single lines \\\n",
    "and not split into individual numbers. \\\n",
    "The lines will look something like \n",
    "\n",
    "```python\n",
    "line = '\\t0     \\t50974\\t56458\\n'```\n",
    "\n",
    "It is possible to split lines by using the split() method\n",
    "```python\n",
    "line = '\\t0     \\t50974\\t56458\\n'\n",
    "split_line = line.split()\n",
    ">>print(split_line)\n",
    ">>['0', '50974', '56458']\n",
    "```\n",
    "So the split takes the string, tries to split it and returns a list of strings\n",
    "that we can work with. `split_line[0]` would give `0`.\n",
    "\n",
    "Now the only problem is that the numbers are represented as strings. "
   ]
  },
  {
   "cell_type": "code",
   "execution_count": 24,
   "metadata": {},
   "outputs": [],
   "source": [
    "#You might want to start with something like\n",
    "#ages = []\n",
    "#data22 = []\n",
    "#data86 = []\n",
    "#for line in population_data:\n",
    "#    line_split = line.split()\n",
    "#    ...\n",
    "#    ...\n",
    "#    ...\n",
    "\n",
    "#Now you have the data and you can calculate the total population, then the mean and median.\n",
    "#You can calculate the median using a while loop or a for loop with a if-statement"
   ]
  },
  {
   "cell_type": "code",
   "execution_count": null,
   "metadata": {},
   "outputs": [],
   "source": []
  },
  {
   "cell_type": "code",
   "execution_count": null,
   "metadata": {},
   "outputs": [],
   "source": []
  }
 ],
 "metadata": {
  "kernelspec": {
   "display_name": "Python 3",
   "language": "python",
   "name": "python3"
  },
  "language_info": {
   "codemirror_mode": {
    "name": "ipython",
    "version": 3
   },
   "file_extension": ".py",
   "mimetype": "text/x-python",
   "name": "python",
   "nbconvert_exporter": "python",
   "pygments_lexer": "ipython3",
   "version": "3.8.3"
  }
 },
 "nbformat": 4,
 "nbformat_minor": 4
}
