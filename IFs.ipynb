{
 "cells": [
  {
   "cell_type": "markdown",
   "metadata": {},
   "source": [
    "# IF\n",
    "IF statements are used to do one thing if a condition is met \n",
    "and something else if the condition is not met. \n",
    "\n",
    "The program will evaluate a well posed logical \n",
    "statement and evaluate either true or false.  \n",
    "Some part of the code is excecuted if the \n",
    "statement is true, another if the statment is false.\n",
    "\n",
    "## Comparison\n",
    "https://docs.python.org/3/library/stdtypes.html#comparisons\n",
    "\n",
    "The following operators are used to compare two items\n",
    "\n",
    "`<` strictly less than \\\n",
    "`<=` less than or equal \\\n",
    "`>` strictly greater than \\\n",
    "`>=` greater than or equal \\\n",
    "`==` equal \\\n",
    "`!=` not equal \\\n",
    "`is` object identity \\\n",
    "`is not` negated object identity \n",
    "\n",
    "Its possible to costruct larger expressions from basic expressions, use\n",
    "`and`, `or`, and `not`.\n",
    "\n",
    "(1) `x or y` True if _x_ or _y_ is True \\\n",
    "(2) `x and y` True if _x_ and _y_ is True \\\n",
    "(3) `not x` if _x_ is false, then `True`, else `False`\n",
    "\n"
   ]
  },
  {
   "cell_type": "code",
   "execution_count": 3,
   "metadata": {},
   "outputs": [
    {
     "name": "stdout",
     "output_type": "stream",
     "text": [
      "True\n",
      "True\n"
     ]
    }
   ],
   "source": [
    "#Printing a logical statment will show if its true or false.\n",
    "print(5>2)\n",
    "print((5 < 2) or (2 > 1))"
   ]
  },
  {
   "cell_type": "code",
   "execution_count": 4,
   "metadata": {},
   "outputs": [],
   "source": [
    "#Try a few logical expressions to get used to the notation\n",
    "#Build a few larger ones by using and/or\n"
   ]
  },
  {
   "cell_type": "code",
   "execution_count": 7,
   "metadata": {},
   "outputs": [
    {
     "name": "stdout",
     "output_type": "stream",
     "text": [
      "True\n",
      "False\n"
     ]
    }
   ],
   "source": [
    "#It is possible to compare variables and lists\n",
    "#most data types have well defined comparison operators\n",
    "variable1 = \"hello\"\n",
    "variable2 = \"goodby\"\n",
    "variable3 = \"hello\"\n",
    "\n",
    "print(variable3 == variable1)\n",
    "print(variable3 == variable2)"
   ]
  },
  {
   "cell_type": "code",
   "execution_count": 8,
   "metadata": {},
   "outputs": [],
   "source": [
    "#Define three lists a = [1,2,3], b = [1,2,3], c = [2,3]\n",
    "#Write logical expressions to compare the lists, what happens?\n",
    "#Python is much more flexible, than most languages, when it comes to what you\n",
    "#can and can not do. Comparing two lists like this would cause issues in for example C or Fortran.\n"
   ]
  },
  {
   "cell_type": "code",
   "execution_count": null,
   "metadata": {},
   "outputs": [],
   "source": []
  },
  {
   "cell_type": "markdown",
   "metadata": {},
   "source": [
    "### If syntax\n",
    "An IF statment consists of the `if` keyword followed by a logical expresson\n",
    "\n",
    "```python\n",
    "a = 'house'\n",
    "if(a == 'house'):\n",
    "    print(\"a is a house\")\n",
    "else:\n",
    "    print(\"a is not a house\")\n",
    "```\n",
    "\n",
    "It is possible to have several consecutive IFs and IFs can be nested.\n",
    "```python\n",
    "a = 5\n",
    "if(a % 2 == 0 ): # % is the modulo operator https://en.wikipedia.org/wiki/Modulo_operation\n",
    "    print(\"a is even\")\n",
    "elif(a % 2 != 0):\n",
    "     print(\"a is odd\")\n",
    "    \n",
    "```\n",
    "\n",
    "The above example could be solved with an else, but it demonstrates the principle."
   ]
  },
  {
   "cell_type": "code",
   "execution_count": 9,
   "metadata": {},
   "outputs": [],
   "source": [
    "numbers = [i for i in range(0,10)] #This is something called list comprehension, google it if you are interested \n",
    "#Write a loop and an if statment that print all the even numbers in the list numbers\n"
   ]
  },
  {
   "cell_type": "code",
   "execution_count": 12,
   "metadata": {},
   "outputs": [],
   "source": [
    "text = 'this is a string of text'\n",
    "#write a loop that loops over all the letters in the text string and checks if it contains\n",
    "#the letter k, the letter x or the letter b. If one of the letters is encountered, print the letter. \n",
    "#Hint: you can loop over the characters in a string using \"for character in string:\"\"\n",
    "\n"
   ]
  },
  {
   "cell_type": "code",
   "execution_count": null,
   "metadata": {},
   "outputs": [],
   "source": []
  }
 ],
 "metadata": {
  "kernelspec": {
   "display_name": "Python 3",
   "language": "python",
   "name": "python3"
  },
  "language_info": {
   "codemirror_mode": {
    "name": "ipython",
    "version": 3
   },
   "file_extension": ".py",
   "mimetype": "text/x-python",
   "name": "python",
   "nbconvert_exporter": "python",
   "pygments_lexer": "ipython3",
   "version": "3.8.3"
  }
 },
 "nbformat": 4,
 "nbformat_minor": 4
}
